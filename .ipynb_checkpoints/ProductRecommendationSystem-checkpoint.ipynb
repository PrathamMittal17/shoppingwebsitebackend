{
 "cells": [
  {
   "cell_type": "code",
   "execution_count": 1,
   "id": "1caa5995",
   "metadata": {},
   "outputs": [],
   "source": [
    "import pandas as pd\n",
    "from sklearn.feature_extraction.text import TfidfVectorizer\n",
    "from sklearn.metrics.pairwise import cosine_similarity\n",
    "import spacy\n",
    "import re"
   ]
  },
  {
   "cell_type": "code",
   "execution_count": 2,
   "id": "5c486486",
   "metadata": {},
   "outputs": [
    {
     "data": {
      "text/html": [
       "<div>\n",
       "<style scoped>\n",
       "    .dataframe tbody tr th:only-of-type {\n",
       "        vertical-align: middle;\n",
       "    }\n",
       "\n",
       "    .dataframe tbody tr th {\n",
       "        vertical-align: top;\n",
       "    }\n",
       "\n",
       "    .dataframe thead th {\n",
       "        text-align: right;\n",
       "    }\n",
       "</style>\n",
       "<table border=\"1\" class=\"dataframe\">\n",
       "  <thead>\n",
       "    <tr style=\"text-align: right;\">\n",
       "      <th></th>\n",
       "      <th>product_id</th>\n",
       "      <th>product_name</th>\n",
       "      <th>price</th>\n",
       "      <th>about</th>\n",
       "      <th>category</th>\n",
       "      <th>img</th>\n",
       "    </tr>\n",
       "  </thead>\n",
       "  <tbody>\n",
       "    <tr>\n",
       "      <th>0</th>\n",
       "      <td>1</td>\n",
       "      <td>Classmate Octane Gel 25s Jar- 20 Blue Gel Pens...</td>\n",
       "      <td>185</td>\n",
       "      <td>[''Smooth and fast writing'', ''Japanese water...</td>\n",
       "      <td>Stationery</td>\n",
       "      <td>https://m.media-amazon.com/images/I/41w8RYx1H8...</td>\n",
       "    </tr>\n",
       "    <tr>\n",
       "      <th>1</th>\n",
       "      <td>2</td>\n",
       "      <td>Godrej 190 L 3 Star Inverter Direct-Cool Singl...</td>\n",
       "      <td>13990</td>\n",
       "      <td>[''190 L Direct cool refrigerator: Economical ...</td>\n",
       "      <td>Electronics/Refrigerators</td>\n",
       "      <td>https://m.media-amazon.com/images/I/41t5eXl9AJ...</td>\n",
       "    </tr>\n",
       "    <tr>\n",
       "      <th>2</th>\n",
       "      <td>3</td>\n",
       "      <td>pTron Bassbuds Duo in Ear Earbuds with 32Hrs T...</td>\n",
       "      <td>599</td>\n",
       "      <td>[''True Wireless Bluetooth Headphones(TWS) wit...</td>\n",
       "      <td>Electronics/Audio</td>\n",
       "      <td>https://m.media-amazon.com/images/I/3116SuCng0...</td>\n",
       "    </tr>\n",
       "    <tr>\n",
       "      <th>3</th>\n",
       "      <td>4</td>\n",
       "      <td>LG 260L 3 Star Smart Inverter Frost-Free Doubl...</td>\n",
       "      <td>24490</td>\n",
       "      <td>[''Frost free refrigerator: Auto defrost funct...</td>\n",
       "      <td>Electronics/Refrigerators</td>\n",
       "      <td>https://m.media-amazon.com/images/I/31jo5pyShX...</td>\n",
       "    </tr>\n",
       "    <tr>\n",
       "      <th>4</th>\n",
       "      <td>5</td>\n",
       "      <td>Zebronics Zeb-Sound Bomb 1 TWS Earbuds with BT...</td>\n",
       "      <td>699</td>\n",
       "      <td>[''6mm Drivers for Immersive Audio Experience'...</td>\n",
       "      <td>Electronics/Audio</td>\n",
       "      <td>https://m.media-amazon.com/images/I/310fwu32to...</td>\n",
       "    </tr>\n",
       "  </tbody>\n",
       "</table>\n",
       "</div>"
      ],
      "text/plain": [
       "   product_id                                       product_name  price  \\\n",
       "0           1  Classmate Octane Gel 25s Jar- 20 Blue Gel Pens...    185   \n",
       "1           2  Godrej 190 L 3 Star Inverter Direct-Cool Singl...  13990   \n",
       "2           3  pTron Bassbuds Duo in Ear Earbuds with 32Hrs T...    599   \n",
       "3           4  LG 260L 3 Star Smart Inverter Frost-Free Doubl...  24490   \n",
       "4           5  Zebronics Zeb-Sound Bomb 1 TWS Earbuds with BT...    699   \n",
       "\n",
       "                                               about  \\\n",
       "0  [''Smooth and fast writing'', ''Japanese water...   \n",
       "1  [''190 L Direct cool refrigerator: Economical ...   \n",
       "2  [''True Wireless Bluetooth Headphones(TWS) wit...   \n",
       "3  [''Frost free refrigerator: Auto defrost funct...   \n",
       "4  [''6mm Drivers for Immersive Audio Experience'...   \n",
       "\n",
       "                    category  \\\n",
       "0                 Stationery   \n",
       "1  Electronics/Refrigerators   \n",
       "2          Electronics/Audio   \n",
       "3  Electronics/Refrigerators   \n",
       "4          Electronics/Audio   \n",
       "\n",
       "                                                 img  \n",
       "0  https://m.media-amazon.com/images/I/41w8RYx1H8...  \n",
       "1  https://m.media-amazon.com/images/I/41t5eXl9AJ...  \n",
       "2  https://m.media-amazon.com/images/I/3116SuCng0...  \n",
       "3  https://m.media-amazon.com/images/I/31jo5pyShX...  \n",
       "4  https://m.media-amazon.com/images/I/310fwu32to...  "
      ]
     },
     "execution_count": 2,
     "metadata": {},
     "output_type": "execute_result"
    }
   ],
   "source": [
    "df = pd.read_csv(\"Products.csv\")\n",
    "df.head()"
   ]
  },
  {
   "cell_type": "code",
   "execution_count": 3,
   "id": "a8af9c98",
   "metadata": {},
   "outputs": [
    {
     "data": {
      "text/plain": [
       "product_id      0\n",
       "product_name    0\n",
       "price           0\n",
       "about           0\n",
       "category        0\n",
       "img             0\n",
       "dtype: int64"
      ]
     },
     "execution_count": 3,
     "metadata": {},
     "output_type": "execute_result"
    }
   ],
   "source": [
    "df.isna().sum()"
   ]
  },
  {
   "cell_type": "code",
   "execution_count": 4,
   "id": "f8628898",
   "metadata": {},
   "outputs": [],
   "source": [
    "sp = spacy.load(\"en_core_web_sm\")"
   ]
  },
  {
   "cell_type": "code",
   "execution_count": 5,
   "id": "01971719",
   "metadata": {},
   "outputs": [],
   "source": [
    "def extract_data(df):\n",
    "    data_list = []\n",
    "    data = \" \"\n",
    "    for i in range(len(df)):\n",
    "        \n",
    "        about_data = \"\"\n",
    "        data = \"\"\n",
    "        no_punct_data = re.findall(r\"\\w+\",df['about'][i])\n",
    "        \n",
    "        for word in no_punct_data:\n",
    "            about_data+=''.join(word+\" \")\n",
    "        data=about_data + df.category[i]\n",
    "        data = \" \".join([token.lemma_ for token in sp(data.lower())])\n",
    "        data_list.append(data)\n",
    "    df['Data'] = data_list\n",
    "    return df"
   ]
  },
  {
   "cell_type": "code",
   "execution_count": 6,
   "id": "55306125",
   "metadata": {},
   "outputs": [],
   "source": [
    "df = extract_data(df)"
   ]
  },
  {
   "cell_type": "code",
   "execution_count": 7,
   "id": "dca6206f",
   "metadata": {},
   "outputs": [],
   "source": [
    "tfidf = TfidfVectorizer()\n",
    "tf_mat = tfidf.fit_transform(df.Data)"
   ]
  },
  {
   "cell_type": "code",
   "execution_count": 8,
   "id": "9e3330e7",
   "metadata": {},
   "outputs": [],
   "source": [
    "cos_sim_mat = cosine_similarity(tf_mat,tf_mat)"
   ]
  },
  {
   "cell_type": "code",
   "execution_count": 9,
   "id": "ac09ca8a",
   "metadata": {},
   "outputs": [],
   "source": [
    "indices = pd.Series(df.index,index=df.product_id)\n",
    "def recommend_product(product_id,how_many_products=5):\n",
    "    recommended_products = [product_id]\n",
    "    product_index = indices[product_id]\n",
    "    recommended = pd.Series(cos_sim_mat[product_index]).sort_values(ascending=False)[1:how_many_products+1]\n",
    "    for i in recommended.index:\n",
    "        recommended_products.append(indices[indices==i].index[0])\n",
    "    return recommended_products"
   ]
  },
  {
   "cell_type": "code",
   "execution_count": 10,
   "id": "8230f38e",
   "metadata": {},
   "outputs": [],
   "source": [
    "recommended_list = []\n",
    "for id in df.product_id:\n",
    "    recommended_list.append(recommend_product(id))"
   ]
  },
  {
   "cell_type": "code",
   "execution_count": 11,
   "id": "07d3752b",
   "metadata": {},
   "outputs": [],
   "source": [
    "recommended_df = pd.DataFrame(data=recommended_list,columns=['Product_ID','Product1','Product2','Product3','Product4','Product5'])"
   ]
  },
  {
   "cell_type": "code",
   "execution_count": 12,
   "id": "a82dffc5",
   "metadata": {},
   "outputs": [],
   "source": [
    "recommended_df.to_csv(\"recommendations.csv\",index=False)"
   ]
  }
 ],
 "metadata": {
  "kernelspec": {
   "display_name": "Python 3 (ipykernel)",
   "language": "python",
   "name": "python3"
  },
  "language_info": {
   "codemirror_mode": {
    "name": "ipython",
    "version": 3
   },
   "file_extension": ".py",
   "mimetype": "text/x-python",
   "name": "python",
   "nbconvert_exporter": "python",
   "pygments_lexer": "ipython3",
   "version": "3.9.13"
  }
 },
 "nbformat": 4,
 "nbformat_minor": 5
}
